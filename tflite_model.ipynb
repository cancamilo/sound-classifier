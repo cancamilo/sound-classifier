{
 "cells": [
  {
   "cell_type": "code",
   "execution_count": 1,
   "metadata": {},
   "outputs": [],
   "source": [
    "import pandas as pd\n",
    "import numpy as np\n",
    "from tensorflow import keras\n",
    "import tensorflow as tf\n",
    "import librosa\n",
    "\n",
    "\n",
    "CSV_FILE_PATH = \"data/esc50.csv\"  # path of csv file\n",
    "DATA_PATH = \"data/audio/44100/\" # path to folder containing audio files\n",
    "\n",
    "class_dict = {\n",
    "    'dog': 0,\n",
    "    'chirping_birds': 1,\n",
    "    'thunderstorm': 2,\n",
    "    'keyboard_typing': 3,\n",
    "    'car_horn': 4,\n",
    "    'drinking_sipping': 5,\n",
    "    'rain': 6,\n",
    "    'breathing': 7,\n",
    "    'coughing': 8,\n",
    "    'cat': 9\n",
    " }"
   ]
  },
  {
   "cell_type": "code",
   "execution_count": 2,
   "metadata": {},
   "outputs": [],
   "source": [
    "df = pd.read_csv(CSV_FILE_PATH)\n",
    "sample = df[df[\"category\"] == \"dog\"].iloc[0]"
   ]
  },
  {
   "cell_type": "code",
   "execution_count": 3,
   "metadata": {},
   "outputs": [],
   "source": [
    "# Perform prediction on a single instance\n",
    "\n",
    "X = []\n",
    "sample_path = sample[\"filename\"]\n",
    "signal, sr = librosa.load(DATA_PATH+sample_path)\n",
    "mfcc_ = librosa.feature.mfcc(y=signal, sr=sr, n_mfcc=13)\n",
    "X.append(mfcc_)\n",
    "X = np.array(X)\n",
    "X = X.reshape(X.shape[0], X.shape[1], X.shape[2], 1)"
   ]
  },
  {
   "cell_type": "code",
   "execution_count": 4,
   "metadata": {},
   "outputs": [
    {
     "name": "stdout",
     "output_type": "stream",
     "text": [
      "Metal device set to: Apple M2 Pro\n",
      "\n",
      "systemMemory: 16.00 GB\n",
      "maxCacheSize: 5.33 GB\n",
      "\n"
     ]
    },
    {
     "name": "stderr",
     "output_type": "stream",
     "text": [
      "2024-01-14 17:19:56.373696: I tensorflow/core/common_runtime/pluggable_device/pluggable_device_factory.cc:305] Could not identify NUMA node of platform GPU ID 0, defaulting to 0. Your kernel may not have been built with NUMA support.\n",
      "2024-01-14 17:19:56.373811: I tensorflow/core/common_runtime/pluggable_device/pluggable_device_factory.cc:271] Created TensorFlow device (/job:localhost/replica:0/task:0/device:GPU:0 with 0 MB memory) -> physical PluggableDevice (device: 0, name: METAL, pci bus id: <undefined>)\n"
     ]
    }
   ],
   "source": [
    "# Load the model\n",
    "model = keras.models.load_model(\"model/model.h5\")"
   ]
  },
  {
   "cell_type": "code",
   "execution_count": 5,
   "metadata": {},
   "outputs": [
    {
     "name": "stderr",
     "output_type": "stream",
     "text": [
      "WARNING:absl:Found untraced functions such as _jit_compiled_convolution_op, _jit_compiled_convolution_op, _jit_compiled_convolution_op while saving (showing 3 of 3). These functions will not be directly callable after loading.\n"
     ]
    },
    {
     "name": "stdout",
     "output_type": "stream",
     "text": [
      "INFO:tensorflow:Assets written to: /var/folders/rz/hqy45d3569g71gtmcbpt6vkr0000gp/T/tmpu51uyhy_/assets\n"
     ]
    },
    {
     "name": "stderr",
     "output_type": "stream",
     "text": [
      "INFO:tensorflow:Assets written to: /var/folders/rz/hqy45d3569g71gtmcbpt6vkr0000gp/T/tmpu51uyhy_/assets\n",
      "2024-01-14 17:19:59.789278: W tensorflow/compiler/mlir/lite/python/tf_tfl_flatbuffer_helpers.cc:362] Ignored output_format.\n",
      "2024-01-14 17:19:59.789290: W tensorflow/compiler/mlir/lite/python/tf_tfl_flatbuffer_helpers.cc:365] Ignored drop_control_dependency.\n",
      "2024-01-14 17:19:59.790214: I tensorflow/cc/saved_model/reader.cc:43] Reading SavedModel from: /var/folders/rz/hqy45d3569g71gtmcbpt6vkr0000gp/T/tmpu51uyhy_\n",
      "2024-01-14 17:19:59.793113: I tensorflow/cc/saved_model/reader.cc:81] Reading meta graph with tags { serve }\n",
      "2024-01-14 17:19:59.793121: I tensorflow/cc/saved_model/reader.cc:122] Reading SavedModel debug info (if present) from: /var/folders/rz/hqy45d3569g71gtmcbpt6vkr0000gp/T/tmpu51uyhy_\n",
      "2024-01-14 17:19:59.798635: I tensorflow/compiler/mlir/mlir_graph_optimization_pass.cc:354] MLIR V1 optimization pass is not enabled\n",
      "2024-01-14 17:19:59.800097: I tensorflow/cc/saved_model/loader.cc:228] Restoring SavedModel bundle.\n",
      "2024-01-14 17:19:59.801051: W tensorflow/core/platform/profile_utils/cpu_utils.cc:128] Failed to get CPU frequency: 0 Hz\n",
      "2024-01-14 17:19:59.856046: I tensorflow/cc/saved_model/loader.cc:212] Running initialization op on SavedModel bundle at path: /var/folders/rz/hqy45d3569g71gtmcbpt6vkr0000gp/T/tmpu51uyhy_\n",
      "2024-01-14 17:19:59.872883: I tensorflow/cc/saved_model/loader.cc:301] SavedModel load for tags { serve }; Status: success: OK. Took 82670 microseconds.\n",
      "2024-01-14 17:19:59.924380: I tensorflow/compiler/mlir/tensorflow/utils/dump_mlir_util.cc:263] disabling MLIR crash reproducer, set env var `MLIR_CRASH_REPRODUCER_DIRECTORY` to enable.\n"
     ]
    }
   ],
   "source": [
    "converter = tf.lite.TFLiteConverter.from_keras_model(model)\n",
    "\n",
    "tflite_model = converter.convert()\n",
    "\n",
    "with open('model/sound-model.tflite', 'wb') as f_out:\n",
    "    f_out.write(tflite_model)"
   ]
  },
  {
   "cell_type": "code",
   "execution_count": 6,
   "metadata": {},
   "outputs": [],
   "source": [
    "import tensorflow.lite as tflite\n",
    "\n",
    "interpreter = tflite.Interpreter(model_path='model/sound-model.tflite')\n",
    "interpreter.allocate_tensors()\n",
    "\n",
    "input_index = interpreter.get_input_details()[0]['index']\n",
    "output_index = interpreter.get_output_details()[0]['index']"
   ]
  },
  {
   "cell_type": "code",
   "execution_count": 7,
   "metadata": {},
   "outputs": [],
   "source": [
    "interpreter.set_tensor(input_index, X)\n",
    "interpreter.invoke()\n",
    "preds = interpreter.get_tensor(output_index)\n"
   ]
  },
  {
   "cell_type": "code",
   "execution_count": 8,
   "metadata": {},
   "outputs": [],
   "source": [
    "classes = list(class_dict.keys())"
   ]
  },
  {
   "cell_type": "code",
   "execution_count": 9,
   "metadata": {},
   "outputs": [
    {
     "data": {
      "text/plain": [
       "{'dog': 0.97222453,\n",
       " 'chirping_birds': 3.269388e-06,\n",
       " 'thunderstorm': 9.658017e-07,\n",
       " 'keyboard_typing': 4.6565274e-06,\n",
       " 'car_horn': 5.512385e-05,\n",
       " 'drinking_sipping': 0.0009613624,\n",
       " 'rain': 9.4963795e-08,\n",
       " 'breathing': 5.2852876e-05,\n",
       " 'coughing': 0.024749089,\n",
       " 'cat': 0.0019480572}"
      ]
     },
     "execution_count": 9,
     "metadata": {},
     "output_type": "execute_result"
    }
   ],
   "source": [
    "dict(zip(classes, preds[0]))"
   ]
  }
 ],
 "metadata": {
  "kernelspec": {
   "display_name": "tf-metal-2",
   "language": "python",
   "name": "python3"
  },
  "language_info": {
   "codemirror_mode": {
    "name": "ipython",
    "version": 3
   },
   "file_extension": ".py",
   "mimetype": "text/x-python",
   "name": "python",
   "nbconvert_exporter": "python",
   "pygments_lexer": "ipython3",
   "version": "3.9.18"
  }
 },
 "nbformat": 4,
 "nbformat_minor": 2
}
